{
  "nbformat": 4,
  "nbformat_minor": 0,
  "metadata": {
    "colab": {
      "provenance": []
    },
    "kernelspec": {
      "name": "python3",
      "display_name": "Python 3"
    },
    "language_info": {
      "name": "python"
    }
  },
  "cells": [
    {
      "cell_type": "markdown",
      "source": [
        "**1. CARGA Y EXPLORACIÓN DE DATOS**"
      ],
      "metadata": {
        "id": "hvWFB0iZniKU"
      }
    },
    {
      "cell_type": "code",
      "execution_count": null,
      "metadata": {
        "colab": {
          "base_uri": "https://localhost:8080/"
        },
        "id": "K7qtoLNjjpHG",
        "outputId": "ed2e787d-089f-4377-bf48-43aa89299dd1"
      },
      "outputs": [
        {
          "output_type": "stream",
          "name": "stdout",
          "text": [
            "Mounted at /content/drive\n"
          ]
        }
      ],
      "source": [
        "# Montar Google Drive\n",
        "from google.colab import drive\n",
        "drive.mount('/content/drive')\n",
        "\n",
        "# Ruta al archivo en Google Drive (ajusta la ruta según la ubicación del archivo en tu Drive)\n",
        "file_path = '/content/drive/My Drive/analisis_ecommerce/Online Retail.xlsx'\n"
      ]
    },
    {
      "cell_type": "code",
      "source": [
        "# Importar librerías necesarias\n",
        "import pandas as pd\n",
        "import numpy as np\n",
        "\n",
        "# Cargar el dataset\n",
        "data = pd.read_excel(file_path)"
      ],
      "metadata": {
        "id": "SA7h_pNjklzH"
      },
      "execution_count": null,
      "outputs": []
    },
    {
      "cell_type": "code",
      "source": [
        "# 1. Explorar las primeras filas\n",
        "print(\"Primeras filas del dataset:\")\n",
        "print(data.head())"
      ],
      "metadata": {
        "colab": {
          "base_uri": "https://localhost:8080/"
        },
        "id": "zKU-0H9Dk1dW",
        "outputId": "13422da8-38bb-4105-c5eb-41c40ca3a7d2"
      },
      "execution_count": null,
      "outputs": [
        {
          "output_type": "stream",
          "name": "stdout",
          "text": [
            "Primeras filas del dataset:\n",
            "  InvoiceNo StockCode                          Description  Quantity  \\\n",
            "0    536365    85123A   WHITE HANGING HEART T-LIGHT HOLDER         6   \n",
            "1    536365     71053                  WHITE METAL LANTERN         6   \n",
            "2    536365    84406B       CREAM CUPID HEARTS COAT HANGER         8   \n",
            "3    536365    84029G  KNITTED UNION FLAG HOT WATER BOTTLE         6   \n",
            "4    536365    84029E       RED WOOLLY HOTTIE WHITE HEART.         6   \n",
            "\n",
            "          InvoiceDate  UnitPrice  CustomerID         Country  \n",
            "0 2010-12-01 08:26:00       2.55     17850.0  United Kingdom  \n",
            "1 2010-12-01 08:26:00       3.39     17850.0  United Kingdom  \n",
            "2 2010-12-01 08:26:00       2.75     17850.0  United Kingdom  \n",
            "3 2010-12-01 08:26:00       3.39     17850.0  United Kingdom  \n",
            "4 2010-12-01 08:26:00       3.39     17850.0  United Kingdom  \n"
          ]
        }
      ]
    },
    {
      "cell_type": "code",
      "source": [
        "# 2. Dimensiones del dataset\n",
        "print(\"\\nDimensiones del dataset (filas, columnas):\")\n",
        "print(data.shape)"
      ],
      "metadata": {
        "colab": {
          "base_uri": "https://localhost:8080/"
        },
        "id": "OOx7xKB0lSGR",
        "outputId": "92e4bc6f-279f-481d-f7a5-df3f9b8f1365"
      },
      "execution_count": null,
      "outputs": [
        {
          "output_type": "stream",
          "name": "stdout",
          "text": [
            "\n",
            "Dimensiones del dataset (filas, columnas):\n",
            "(541909, 8)\n"
          ]
        }
      ]
    },
    {
      "cell_type": "code",
      "source": [
        "# 3. Tipos de datos y valores nulos\n",
        "print(\"\\nInformación del dataset:\")\n",
        "print(data.info())"
      ],
      "metadata": {
        "colab": {
          "base_uri": "https://localhost:8080/"
        },
        "id": "c5Uha85yldCP",
        "outputId": "68276b12-9562-4e04-8843-dd7e97c90047"
      },
      "execution_count": null,
      "outputs": [
        {
          "output_type": "stream",
          "name": "stdout",
          "text": [
            "\n",
            "Información del dataset:\n",
            "<class 'pandas.core.frame.DataFrame'>\n",
            "RangeIndex: 541909 entries, 0 to 541908\n",
            "Data columns (total 8 columns):\n",
            " #   Column       Non-Null Count   Dtype         \n",
            "---  ------       --------------   -----         \n",
            " 0   InvoiceNo    541909 non-null  object        \n",
            " 1   StockCode    541909 non-null  object        \n",
            " 2   Description  540455 non-null  object        \n",
            " 3   Quantity     541909 non-null  int64         \n",
            " 4   InvoiceDate  541909 non-null  datetime64[ns]\n",
            " 5   UnitPrice    541909 non-null  float64       \n",
            " 6   CustomerID   406829 non-null  float64       \n",
            " 7   Country      541909 non-null  object        \n",
            "dtypes: datetime64[ns](1), float64(2), int64(1), object(4)\n",
            "memory usage: 33.1+ MB\n",
            "None\n"
          ]
        }
      ]
    },
    {
      "cell_type": "code",
      "source": [
        "# 4. Resumen estadístico de columnas numéricas\n",
        "print(\"\\nResumen estadístico de columnas numéricas:\")\n",
        "print(data.describe())"
      ],
      "metadata": {
        "colab": {
          "base_uri": "https://localhost:8080/"
        },
        "id": "Nwv4wOS1lhS4",
        "outputId": "2e805b6b-c8f7-4bfb-bcf6-3decdc646583"
      },
      "execution_count": null,
      "outputs": [
        {
          "output_type": "stream",
          "name": "stdout",
          "text": [
            "\n",
            "Resumen estadístico de columnas numéricas:\n",
            "            Quantity                    InvoiceDate      UnitPrice  \\\n",
            "count  541909.000000                         541909  541909.000000   \n",
            "mean        9.552250  2011-07-04 13:34:57.156386048       4.611114   \n",
            "min    -80995.000000            2010-12-01 08:26:00  -11062.060000   \n",
            "25%         1.000000            2011-03-28 11:34:00       1.250000   \n",
            "50%         3.000000            2011-07-19 17:17:00       2.080000   \n",
            "75%        10.000000            2011-10-19 11:27:00       4.130000   \n",
            "max     80995.000000            2011-12-09 12:50:00   38970.000000   \n",
            "std       218.081158                            NaN      96.759853   \n",
            "\n",
            "          CustomerID  \n",
            "count  406829.000000  \n",
            "mean    15287.690570  \n",
            "min     12346.000000  \n",
            "25%     13953.000000  \n",
            "50%     15152.000000  \n",
            "75%     16791.000000  \n",
            "max     18287.000000  \n",
            "std      1713.600303  \n"
          ]
        }
      ]
    },
    {
      "cell_type": "code",
      "source": [
        "# 5. Comprobar valores faltantes\n",
        "print(\"\\nConteo de valores faltantes por columna:\")\n",
        "print(data.isnull().sum())"
      ],
      "metadata": {
        "colab": {
          "base_uri": "https://localhost:8080/"
        },
        "id": "_y3C0qbzlora",
        "outputId": "c1d9cea8-4d2e-4b71-f430-1e6de69f28fe"
      },
      "execution_count": null,
      "outputs": [
        {
          "output_type": "stream",
          "name": "stdout",
          "text": [
            "\n",
            "Conteo de valores faltantes por columna:\n",
            "InvoiceNo           0\n",
            "StockCode           0\n",
            "Description      1454\n",
            "Quantity            0\n",
            "InvoiceDate         0\n",
            "UnitPrice           0\n",
            "CustomerID     135080\n",
            "Country             0\n",
            "dtype: int64\n"
          ]
        }
      ]
    },
    {
      "cell_type": "code",
      "source": [
        "# 6. Comprobar duplicados\n",
        "print(\"\\nNúmero de filas duplicadas:\")\n",
        "print(data.duplicated().sum())"
      ],
      "metadata": {
        "colab": {
          "base_uri": "https://localhost:8080/"
        },
        "id": "gKnI_OlKlsN_",
        "outputId": "203af8f8-8896-4fbe-d01e-a40ee5c2335a"
      },
      "execution_count": null,
      "outputs": [
        {
          "output_type": "stream",
          "name": "stdout",
          "text": [
            "\n",
            "Número de filas duplicadas:\n",
            "5268\n"
          ]
        }
      ]
    },
    {
      "cell_type": "markdown",
      "source": [
        "**2. LIMPIEZA DE DATOS**"
      ],
      "metadata": {
        "id": "Jo2vwPkOnucj"
      }
    },
    {
      "cell_type": "markdown",
      "source": [
        "1. Manejar Valores Faltantes\n",
        "Eliminaremos registros con valores faltantes en columnas esenciales, como CustomerID y Description."
      ],
      "metadata": {
        "id": "tHXU_ITXmYHu"
      }
    },
    {
      "cell_type": "code",
      "source": [
        "# Eliminar registros sin CustomerID o Description\n",
        "data_cleaned = data.dropna(subset=['CustomerID', 'Description'])\n",
        "\n",
        "# Verificar que no queden valores faltantes en estas columnas\n",
        "print(\"\\nValores faltantes después de eliminar registros sin CustomerID o Description:\")\n",
        "print(data_cleaned.isnull().sum())"
      ],
      "metadata": {
        "colab": {
          "base_uri": "https://localhost:8080/"
        },
        "id": "285ICjKfluft",
        "outputId": "cb2b8478-b6b0-4813-a628-5d42c03da297"
      },
      "execution_count": null,
      "outputs": [
        {
          "output_type": "stream",
          "name": "stdout",
          "text": [
            "\n",
            "Valores faltantes después de eliminar registros sin CustomerID o Description:\n",
            "InvoiceNo      0\n",
            "StockCode      0\n",
            "Description    0\n",
            "Quantity       0\n",
            "InvoiceDate    0\n",
            "UnitPrice      0\n",
            "CustomerID     0\n",
            "Country        0\n",
            "dtype: int64\n"
          ]
        }
      ]
    },
    {
      "cell_type": "markdown",
      "source": [
        "2. Corregir Inconsistencias en las Columnas\n",
        "Aquí verificamos que los tipos de datos sean correctos. Por ejemplo, aseguramos que InvoiceDate sea de tipo datetime."
      ],
      "metadata": {
        "id": "0UQrRrS8miUM"
      }
    },
    {
      "cell_type": "code",
      "source": [
        "# Asegurar que InvoiceDate es tipo datetime\n",
        "data_cleaned['InvoiceDate'] = pd.to_datetime(data_cleaned['InvoiceDate'])\n",
        "\n",
        "# Verificar tipos de datos\n",
        "print(\"\\nTipos de datos después de correcciones:\")\n",
        "print(data_cleaned.dtypes)"
      ],
      "metadata": {
        "colab": {
          "base_uri": "https://localhost:8080/"
        },
        "id": "T47oTdL1mA4t",
        "outputId": "397c4446-9d66-43a9-b989-4db63a3c7527"
      },
      "execution_count": null,
      "outputs": [
        {
          "output_type": "stream",
          "name": "stdout",
          "text": [
            "\n",
            "Tipos de datos después de correcciones:\n",
            "InvoiceNo              object\n",
            "StockCode              object\n",
            "Description            object\n",
            "Quantity                int64\n",
            "InvoiceDate    datetime64[ns]\n",
            "UnitPrice             float64\n",
            "CustomerID            float64\n",
            "Country                object\n",
            "dtype: object\n"
          ]
        },
        {
          "output_type": "stream",
          "name": "stderr",
          "text": [
            "<ipython-input-11-ffc2bbc587f2>:2: SettingWithCopyWarning: \n",
            "A value is trying to be set on a copy of a slice from a DataFrame.\n",
            "Try using .loc[row_indexer,col_indexer] = value instead\n",
            "\n",
            "See the caveats in the documentation: https://pandas.pydata.org/pandas-docs/stable/user_guide/indexing.html#returning-a-view-versus-a-copy\n",
            "  data_cleaned['InvoiceDate'] = pd.to_datetime(data_cleaned['InvoiceDate'])\n"
          ]
        }
      ]
    },
    {
      "cell_type": "markdown",
      "source": [
        "3. Remover Valores Anómalos\n",
        "Eliminamos registros con:\n",
        "\n",
        "Cantidades negativas en Quantity.\n",
        "Precios menores o iguales a cero en UnitPrice."
      ],
      "metadata": {
        "id": "p4seMN6NmrQb"
      }
    },
    {
      "cell_type": "code",
      "source": [
        "# Eliminar registros con cantidades negativas\n",
        "data_cleaned = data_cleaned[data_cleaned['Quantity'] > 0]\n",
        "\n",
        "# Eliminar registros con precios menores o iguales a cero\n",
        "data_cleaned = data_cleaned[data_cleaned['UnitPrice'] > 0]\n",
        "\n",
        "# Verificar que no queden valores anómalos\n",
        "print(\"\\nRegistros con valores negativos en Quantity o UnitPrice después de limpieza:\")\n",
        "print(data_cleaned[(data_cleaned['Quantity'] <= 0) | (data_cleaned['UnitPrice'] <= 0)])\n"
      ],
      "metadata": {
        "colab": {
          "base_uri": "https://localhost:8080/"
        },
        "id": "WVrN0wZ6mEhb",
        "outputId": "0ace468d-e7a1-43f8-aa6d-947702c0d95a"
      },
      "execution_count": null,
      "outputs": [
        {
          "output_type": "stream",
          "name": "stdout",
          "text": [
            "\n",
            "Registros con valores negativos en Quantity o UnitPrice después de limpieza:\n",
            "Empty DataFrame\n",
            "Columns: [InvoiceNo, StockCode, Description, Quantity, InvoiceDate, UnitPrice, CustomerID, Country]\n",
            "Index: []\n"
          ]
        }
      ]
    },
    {
      "cell_type": "markdown",
      "source": [
        "Validación Final\n",
        "Revisamos las dimensiones del DataFrame limpio y que no haya duplicados."
      ],
      "metadata": {
        "id": "hpshpqQPmzlD"
      }
    },
    {
      "cell_type": "code",
      "source": [
        "# Dimensiones después de la limpieza\n",
        "print(\"\\nDimensiones del dataset después de limpieza:\")\n",
        "print(data_cleaned.shape)\n",
        "\n",
        "# Verificar y eliminar duplicados\n",
        "duplicates = data_cleaned.duplicated().sum()\n",
        "print(f\"\\nNúmero de filas duplicadas: {duplicates}\")\n",
        "\n",
        "# Eliminar duplicados si existen\n",
        "if duplicates > 0:\n",
        "    data_cleaned = data_cleaned.drop_duplicates()\n",
        "    print(\"Duplicados eliminados.\")\n"
      ],
      "metadata": {
        "colab": {
          "base_uri": "https://localhost:8080/"
        },
        "id": "qEROUlVsmIO9",
        "outputId": "34d9b465-7395-441e-d31b-71f5307c18ea"
      },
      "execution_count": null,
      "outputs": [
        {
          "output_type": "stream",
          "name": "stdout",
          "text": [
            "\n",
            "Dimensiones del dataset después de limpieza:\n",
            "(397884, 8)\n",
            "\n",
            "Número de filas duplicadas: 5192\n",
            "Duplicados eliminados.\n"
          ]
        }
      ]
    },
    {
      "cell_type": "markdown",
      "source": [
        "**3. ANÁLISIS DESCRIPTIVO**"
      ],
      "metadata": {
        "id": "zhzVDqCsoC66"
      }
    },
    {
      "cell_type": "markdown",
      "source": [
        "1. Calcular Métricas Clave"
      ],
      "metadata": {
        "id": "kdidVoZAoWhn"
      }
    },
    {
      "cell_type": "code",
      "source": [
        "# Calcular ingresos por transacción (Cantidad * Precio Unitario)\n",
        "data_cleaned['TotalPrice'] = data_cleaned['Quantity'] * data_cleaned['UnitPrice']\n",
        "\n",
        "# 1. Ingreso total generado\n",
        "total_income = data_cleaned['TotalPrice'].sum()\n",
        "print(f\"Ingreso total generado: {total_income:.2f}\")\n",
        "\n",
        "# 2. Número de clientes únicos\n",
        "unique_customers = data_cleaned['CustomerID'].nunique()\n",
        "print(f\"Número de clientes únicos: {unique_customers}\")\n",
        "\n",
        "# 3. Top 10 productos más vendidos (por cantidad)\n",
        "top_products = data_cleaned.groupby('Description')['Quantity'].sum().sort_values(ascending=False).head(10)\n",
        "print(\"\\nTop 10 productos más vendidos (por cantidad):\")\n",
        "print(top_products)\n"
      ],
      "metadata": {
        "colab": {
          "base_uri": "https://localhost:8080/"
        },
        "id": "ds03ESnjmMgS",
        "outputId": "a832ba5f-48a8-49b9-ec77-e1e200f8a278"
      },
      "execution_count": null,
      "outputs": [
        {
          "output_type": "stream",
          "name": "stdout",
          "text": [
            "Ingreso total generado: 8887208.89\n",
            "Número de clientes únicos: 4338\n",
            "\n",
            "Top 10 productos más vendidos (por cantidad):\n",
            "Description\n",
            "PAPER CRAFT , LITTLE BIRDIE           80995\n",
            "MEDIUM CERAMIC TOP STORAGE JAR        77916\n",
            "WORLD WAR 2 GLIDERS ASSTD DESIGNS     54319\n",
            "JUMBO BAG RED RETROSPOT               46078\n",
            "WHITE HANGING HEART T-LIGHT HOLDER    36706\n",
            "ASSORTED COLOUR BIRD ORNAMENT         35263\n",
            "PACK OF 72 RETROSPOT CAKE CASES       33670\n",
            "POPCORN HOLDER                        30919\n",
            "RABBIT NIGHT LIGHT                    27153\n",
            "MINI PAINT SET VINTAGE                26076\n",
            "Name: Quantity, dtype: int64\n"
          ]
        }
      ]
    },
    {
      "cell_type": "markdown",
      "source": [
        "2. Analizar Patrones Temporales"
      ],
      "metadata": {
        "id": "MoEBQXepotQl"
      }
    },
    {
      "cell_type": "markdown",
      "source": [
        "Ventas Totales por Mes\n",
        "Convertiremos la columna InvoiceDate a un índice temporal para facilitar el análisis."
      ],
      "metadata": {
        "id": "k18NBbpTow--"
      }
    },
    {
      "cell_type": "code",
      "source": [
        "# Extraer el mes y año de la columna InvoiceDate\n",
        "data_cleaned['YearMonth'] = data_cleaned['InvoiceDate'].dt.to_period('M')\n",
        "\n",
        "# Calcular ventas totales por mes\n",
        "monthly_sales = data_cleaned.groupby('YearMonth')['TotalPrice'].sum()\n",
        "print(\"\\nVentas totales por mes:\")\n",
        "print(monthly_sales)\n"
      ],
      "metadata": {
        "colab": {
          "base_uri": "https://localhost:8080/"
        },
        "id": "cktjzzJFojN3",
        "outputId": "94afa7eb-1cb5-42ac-83ba-0ef08fa44100"
      },
      "execution_count": null,
      "outputs": [
        {
          "output_type": "stream",
          "name": "stdout",
          "text": [
            "\n",
            "Ventas totales por mes:\n",
            "YearMonth\n",
            "2010-12     570422.730\n",
            "2011-01     568101.310\n",
            "2011-02     446084.920\n",
            "2011-03     594081.760\n",
            "2011-04     468374.331\n",
            "2011-05     677355.150\n",
            "2011-06     660046.050\n",
            "2011-07     598962.901\n",
            "2011-08     644051.040\n",
            "2011-09     950690.202\n",
            "2011-10    1035642.450\n",
            "2011-11    1156205.610\n",
            "2011-12     517190.440\n",
            "Freq: M, Name: TotalPrice, dtype: float64\n"
          ]
        }
      ]
    },
    {
      "cell_type": "markdown",
      "source": [
        "Ventas Totales por Día de la Semana\n",
        "Agregaremos una columna para el día de la semana."
      ],
      "metadata": {
        "id": "ukAALIjso6qk"
      }
    },
    {
      "cell_type": "code",
      "source": [
        "# Extraer día de la semana\n",
        "data_cleaned['DayOfWeek'] = data_cleaned['InvoiceDate'].dt.day_name()\n",
        "\n",
        "# Calcular ventas totales por día de la semana\n",
        "weekday_sales = data_cleaned.groupby('DayOfWeek')['TotalPrice'].sum().sort_values(ascending=False)\n",
        "print(\"\\nVentas totales por día de la semana:\")\n",
        "print(weekday_sales)\n"
      ],
      "metadata": {
        "colab": {
          "base_uri": "https://localhost:8080/"
        },
        "id": "3ZK0CaBRo1zc",
        "outputId": "edbf3453-27c8-4e4c-fd98-12b28bdefe16"
      },
      "execution_count": null,
      "outputs": [
        {
          "output_type": "stream",
          "name": "stdout",
          "text": [
            "\n",
            "Ventas totales por día de la semana:\n",
            "DayOfWeek\n",
            "Thursday     1973015.730\n",
            "Tuesday      1697733.801\n",
            "Wednesday    1584283.830\n",
            "Friday       1483080.811\n",
            "Monday       1363604.401\n",
            "Sunday        785490.321\n",
            "Name: TotalPrice, dtype: float64\n"
          ]
        }
      ]
    },
    {
      "cell_type": "markdown",
      "source": [
        "3. Determinar Países con Mayor Volumen de Ventas"
      ],
      "metadata": {
        "id": "Awq0CvQepEzF"
      }
    },
    {
      "cell_type": "code",
      "source": [
        "# Calcular ventas totales por país\n",
        "country_sales = data_cleaned.groupby('Country')['TotalPrice'].sum().sort_values(ascending=False)\n",
        "print(\"\\nPaíses con mayor volumen de ventas:\")\n",
        "print(country_sales.head(10))\n"
      ],
      "metadata": {
        "colab": {
          "base_uri": "https://localhost:8080/"
        },
        "id": "NBVw_R-ho-gC",
        "outputId": "0bd578d9-1ba6-4f58-c419-3cd81ba04dee"
      },
      "execution_count": null,
      "outputs": [
        {
          "output_type": "stream",
          "name": "stdout",
          "text": [
            "\n",
            "Países con mayor volumen de ventas:\n",
            "Country\n",
            "United Kingdom    7285024.644\n",
            "Netherlands        285446.340\n",
            "EIRE               265262.460\n",
            "Germany            228678.400\n",
            "France             208934.310\n",
            "Australia          138453.810\n",
            "Spain               61558.560\n",
            "Switzerland         56443.950\n",
            "Belgium             41196.340\n",
            "Sweden              38367.830\n",
            "Name: TotalPrice, dtype: float64\n"
          ]
        }
      ]
    },
    {
      "cell_type": "markdown",
      "source": [
        "**4. CREACIÓN DE NUEVAS CARACTERÍSTICAS**"
      ],
      "metadata": {
        "id": "onj8vF93pb7E"
      }
    },
    {
      "cell_type": "markdown",
      "source": [
        "1. Crear Columnas Nuevas"
      ],
      "metadata": {
        "id": "v1wM2-PkpnKu"
      }
    },
    {
      "cell_type": "markdown",
      "source": [
        "Mes y Año de la Compra\n",
        "Aunque ya tenemos las columnas Year y Month parcialmente implementadas, nos aseguraremos de que estén correctamente configuradas:"
      ],
      "metadata": {
        "id": "NJbCFr5Fp9aG"
      }
    },
    {
      "cell_type": "code",
      "source": [
        "# Crear columnas para Mes y Año si no existen\n",
        "if 'Month' not in data_cleaned.columns or 'Year' not in data_cleaned.columns:\n",
        "    data_cleaned['Month'] = data_cleaned['InvoiceDate'].dt.month\n",
        "    data_cleaned['Year'] = data_cleaned['InvoiceDate'].dt.year\n",
        "\n",
        "# Verificar las nuevas columnas\n",
        "print(\"\\nVerificando columnas de Mes y Año:\")\n",
        "print(data_cleaned[['InvoiceDate', 'Month', 'Year']].head())\n"
      ],
      "metadata": {
        "colab": {
          "base_uri": "https://localhost:8080/"
        },
        "id": "6Nb95OnHpJIE",
        "outputId": "8e03142f-cb0e-4ddc-a8be-f0f94e59e812"
      },
      "execution_count": null,
      "outputs": [
        {
          "output_type": "stream",
          "name": "stdout",
          "text": [
            "\n",
            "Verificando columnas de Mes y Año:\n",
            "          InvoiceDate  Month  Year\n",
            "0 2010-12-01 08:26:00     12  2010\n",
            "1 2010-12-01 08:26:00     12  2010\n",
            "2 2010-12-01 08:26:00     12  2010\n",
            "3 2010-12-01 08:26:00     12  2010\n",
            "4 2010-12-01 08:26:00     12  2010\n"
          ]
        }
      ]
    },
    {
      "cell_type": "markdown",
      "source": [
        "2. Calcular Estadísticas por Cliente"
      ],
      "metadata": {
        "id": "64_fTXE3qFP-"
      }
    },
    {
      "cell_type": "markdown",
      "source": [
        "Nos centraremos en estadísticas como gasto promedio y frecuencia de compra por cliente, dado que aún no hemos generado estas métricas de manera persistente.\n",
        "\n",
        "Gasto Promedio por Cliente\n",
        "Aquí agrupamos por cliente para obtener el gasto total y promedio:"
      ],
      "metadata": {
        "id": "aLEREl4xqOI3"
      }
    },
    {
      "cell_type": "code",
      "source": [
        "# Calcular gasto total y promedio por cliente\n",
        "customer_stats = data_cleaned.groupby('CustomerID').agg(\n",
        "    TotalSpent=('TotalPrice', 'sum'),\n",
        "    AvgSpent=('TotalPrice', 'mean')\n",
        ").reset_index()\n",
        "\n",
        "# Mostrar estadísticas de gasto\n",
        "print(\"\\nEstadísticas de gasto por cliente (Gasto total y promedio):\")\n",
        "print(customer_stats.head())\n"
      ],
      "metadata": {
        "colab": {
          "base_uri": "https://localhost:8080/"
        },
        "id": "FyoCuCa1qB9r",
        "outputId": "f20fc07d-4564-4547-eb42-1bfcb8b28844"
      },
      "execution_count": null,
      "outputs": [
        {
          "output_type": "stream",
          "name": "stdout",
          "text": [
            "\n",
            "Estadísticas de gasto por cliente (Gasto total y promedio):\n",
            "   CustomerID  TotalSpent      AvgSpent\n",
            "0     12346.0    77183.60  77183.600000\n",
            "1     12347.0     4310.00     23.681319\n",
            "2     12348.0     1797.24     57.975484\n",
            "3     12349.0     1757.55     24.076027\n",
            "4     12350.0      334.40     19.670588\n"
          ]
        }
      ]
    },
    {
      "cell_type": "markdown",
      "source": [
        "Frecuencia de Compra\n",
        "Agregamos la frecuencia de compra (número de facturas únicas por cliente)"
      ],
      "metadata": {
        "id": "QXRnbNuPqZJ9"
      }
    },
    {
      "cell_type": "code",
      "source": [
        "# Calcular frecuencia de compra\n",
        "customer_stats['PurchaseFrequency'] = data_cleaned.groupby('CustomerID')['InvoiceNo'].nunique().values\n",
        "\n",
        "# Verificar estadísticas actualizadas\n",
        "print(\"\\nEstadísticas de gasto y frecuencia por cliente:\")\n",
        "print(customer_stats.head())\n"
      ],
      "metadata": {
        "colab": {
          "base_uri": "https://localhost:8080/"
        },
        "id": "ugmI8H9yqVbG",
        "outputId": "a22f40f5-2247-4d52-ccb3-1174541eaa9f"
      },
      "execution_count": null,
      "outputs": [
        {
          "output_type": "stream",
          "name": "stdout",
          "text": [
            "\n",
            "Estadísticas de gasto y frecuencia por cliente:\n",
            "   CustomerID  TotalSpent      AvgSpent  PurchaseFrequency\n",
            "0     12346.0    77183.60  77183.600000                  1\n",
            "1     12347.0     4310.00     23.681319                  7\n",
            "2     12348.0     1797.24     57.975484                  4\n",
            "3     12349.0     1757.55     24.076027                  1\n",
            "4     12350.0      334.40     19.670588                  1\n"
          ]
        }
      ]
    },
    {
      "cell_type": "code",
      "source": [
        "import matplotlib.pyplot as plt\n",
        "import seaborn as sns"
      ],
      "metadata": {
        "id": "5KVdlJy4qdGN"
      },
      "execution_count": null,
      "outputs": []
    },
    {
      "cell_type": "markdown",
      "source": [
        "**5. VISUALIZACIÓN**"
      ],
      "metadata": {
        "id": "AjzKzOYpq9ku"
      }
    },
    {
      "cell_type": "markdown",
      "source": [
        "1. Productos Más Vendidos (Gráfico de Barras)"
      ],
      "metadata": {
        "id": "OsKPlf20rGTl"
      }
    },
    {
      "cell_type": "code",
      "source": [
        "# Top 10 productos más vendidos (por cantidad)\n",
        "top_products = data_cleaned.groupby('Description')['Quantity'].sum().sort_values(ascending=False).head(10)\n",
        "\n",
        "# Crear gráfico de barras\n",
        "plt.figure(figsize=(10, 6))\n",
        "sns.barplot(x=top_products.values, y=top_products.index, palette=\"viridis\")\n",
        "plt.title(\"Top 10 Productos Más Vendidos\", fontsize=16)\n",
        "plt.xlabel(\"Cantidad Vendida\", fontsize=12)\n",
        "plt.ylabel(\"Producto\", fontsize=12)\n",
        "plt.show()\n"
      ],
      "metadata": {
        "colab": {
          "base_uri": "https://localhost:8080/",
          "height": 679
        },
        "id": "NlXSXS52qz8Z",
        "outputId": "06ce0781-399c-4a82-f42e-77cc17fadb9b"
      },
      "execution_count": null,
      "outputs": [
        {
          "output_type": "stream",
          "name": "stderr",
          "text": [
            "<ipython-input-22-3c486400ca5b>:6: FutureWarning: \n",
            "\n",
            "Passing `palette` without assigning `hue` is deprecated and will be removed in v0.14.0. Assign the `y` variable to `hue` and set `legend=False` for the same effect.\n",
            "\n",
            "  sns.barplot(x=top_products.values, y=top_products.index, palette=\"viridis\")\n"
          ]
        },
        {
          "output_type": "display_data",
          "data": {
            "text/plain": [
              "<Figure size 1000x600 with 1 Axes>"
            ],
            "image/png": "[encoded data removed]"
          },
          "metadata": {}
        }
      ]
    },
    {
      "cell_type": "markdown",
      "source": [
        "2. Ingresos Mensuales (Gráfico de Línea)"
      ],
      "metadata": {
        "id": "m7Z7HOh5rQFt"
      }
    },
    {
      "cell_type": "code",
      "source": [
        "# Ingresos por mes\n",
        "monthly_sales = data_cleaned.groupby(['Year', 'Month'])['TotalPrice'].sum().reset_index()\n",
        "monthly_sales['YearMonth'] = monthly_sales['Year'].astype(str) + '-' + monthly_sales['Month'].astype(str)\n",
        "\n",
        "# Crear gráfico de línea\n",
        "plt.figure(figsize=(12, 6))\n",
        "sns.lineplot(x='YearMonth', y='TotalPrice', data=monthly_sales, marker=\"o\", color=\"blue\")\n",
        "plt.title(\"Ingresos Mensuales\", fontsize=16)\n",
        "plt.xlabel(\"Mes y Año\", fontsize=12)\n",
        "plt.ylabel(\"Ingresos\", fontsize=12)\n",
        "plt.xticks(rotation=45)\n",
        "plt.grid()\n",
        "plt.show()\n"
      ],
      "metadata": {
        "colab": {
          "base_uri": "https://localhost:8080/",
          "height": 607
        },
        "id": "dlLm4UJBrJeW",
        "outputId": "da049179-d839-43ba-c855-b022563a1946"
      },
      "execution_count": null,
      "outputs": [
        {
          "output_type": "display_data",
          "data": {
            "text/plain": [
              "<Figure size 1200x600 with 1 Axes>"
            ],
            "image/png": "[encoded data removed]"
          },
          "metadata": {}
        }
      ]
    },
    {
      "cell_type": "markdown",
      "source": [
        "3. Distribución de Ingresos por Cliente (Histograma)"
      ],
      "metadata": {
        "id": "V80xN37AramF"
      }
    },
    {
      "cell_type": "code",
      "source": [
        "# Distribución de ingresos por cliente\n",
        "customer_sales = data_cleaned.groupby('CustomerID')['TotalPrice'].sum()\n",
        "\n",
        "# Crear histograma\n",
        "plt.figure(figsize=(10, 6))\n",
        "sns.histplot(customer_sales, bins=50, kde=True, color='green')\n",
        "plt.title(\"Distribución de Ingresos por Cliente\", fontsize=16)\n",
        "plt.xlabel(\"Ingresos por Cliente\", fontsize=12)\n",
        "plt.ylabel(\"Frecuencia\", fontsize=12)\n",
        "plt.grid()\n",
        "plt.show()"
      ],
      "metadata": {
        "colab": {
          "base_uri": "https://localhost:8080/",
          "height": 572
        },
        "id": "zLQJrxxerUEW",
        "outputId": "a595f3cb-0d4b-48fd-f44a-e883112e9038"
      },
      "execution_count": null,
      "outputs": [
        {
          "output_type": "display_data",
          "data": {
            "text/plain": [
              "<Figure size 1000x600 with 1 Axes>"
            ],
            "image/png": "[encoded data removed]"
          },
          "metadata": {}
        }
      ]
    },
    {
      "cell_type": "code",
      "source": [
        "!ls /content/drive/MyDrive/"
      ],
      "metadata": {
        "colab": {
          "base_uri": "https://localhost:8080/"
        },
        "id": "FZR0l-6_rd7r",
        "outputId": "9c55f785-0781-4f5d-ad71-97543afce4ae"
      },
      "execution_count": null,
      "outputs": [
        {
          "output_type": "stream",
          "name": "stdout",
          "text": [
            " 17144899276683239455027617036115.jpg\n",
            " 4_6026078625139264929.pdf\n",
            " analisis_ecommerce\n",
            " base_de_datos.gsheet\n",
            " carta_de_renuncia_kg.gdoc\n",
            " cedula_diego_alejandro.pdf\n",
            " certificado_1017178915_5254196493641049515.pdf\n",
            " CertificadoDACQ.pdf\n",
            " Classroom\n",
            "'Colab Notebooks'\n",
            "'Copia de QA. Bug Report'$'\\n''.xlsx'\n",
            "'Copia de QA. Test Case'$'\\n''.xlsx'\n",
            "'CURSO ECXEL'\n",
            " diego_alejandro_correa_quiroz_titanic.gdoc\n",
            "'DIEGO PC INFORMACION'\n",
            "'Documentos declaracion renta 2022'\n",
            "'Ensayo covid 19.gdoc'\n",
            " essay.gdoc\n",
            "'Etiquetas HTML.gdoc'\n",
            " factura_11451903520221201.zip\n",
            " Fisica_Computacional-1_2021-I-main\n",
            "'FORMATO INFORME NIVELACION EXTERNA (1).docx'\n",
            "'Formulario sin título (File responses)'\n",
            " french_words.gsheet\n",
            " FRONT_END\n",
            " Gastos.gsheet\n",
            " Gastos_personales.gsheet\n",
            "'Hoja de cálculo sin título (1).gsheet'\n",
            "'Hoja de cálculo sin título (2).gsheet'\n",
            "'Hoja de cálculo sin título.gsheet'\n",
            " inventario_la_bonanza.gsheet\n",
            "'Libros Karate Do'\n",
            " Lista_equipos.gsheet\n",
            " LPIC-1\n",
            " mapa_usa.gslides\n",
            "'marketing digital'\n",
            "'Ofimática 1'\n",
            "'Preguntas Shuyita.gform'\n",
            "'Presentación sin título.gslides'\n",
            " Proyecto_final_front_end\n",
            " python_diego_correa.py\n",
            "'READAPTADOR FÍSICO.gdoc'\n",
            "'Record, listas, .gdoc'\n",
            " Relacion_mente_cuerpo.gdoc\n",
            " resumencss.pdf\n",
            "'Software testing Goit'\n",
            " tensor_flow\n",
            " Translate.gdoc\n",
            "'Vuélvela a hacer y no tengas tan presente la muer....gdoc'\n"
          ]
        }
      ]
    },
    {
      "cell_type": "code",
      "source": [
        "!ls /content/drive/MyDrive/analisis_ecommerce/"
      ],
      "metadata": {
        "colab": {
          "base_uri": "https://localhost:8080/"
        },
        "id": "QgNLY4chytFE",
        "outputId": "b44eed7e-5b0e-4876-d55a-603e5660b3df"
      },
      "execution_count": null,
      "outputs": [
        {
          "output_type": "stream",
          "name": "stdout",
          "text": [
            "'Análisis de Datos de Ventas de un E-Commerce.ipynb'  'Online Retail.xlsx'\n"
          ]
        }
      ]
    },
    {
      "cell_type": "code",
      "source": [
        "/content/drive/MyDrive/Panalisis_ecommerce/Análisis_de_Datos_de_Ventas_de_un_E_Commerce.ipynb\n"
      ],
      "metadata": {
        "id": "Nr1Ey7n7y0d-"
      },
      "execution_count": null,
      "outputs": []
    }
  ]
}